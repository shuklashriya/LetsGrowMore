{
 "cells": [
  {
   "cell_type": "markdown",
   "metadata": {
    "id": "hNjjDXuHRz_y"
   },
   "source": [
    "LetsGrowMore #Oct 2022\n",
    "\n",
    "Name     : Shukla Shriya Akhilesh\n",
    "\n",
    "Task 2   : Stock Market Prediction And Forecasting Using Stacked LSTM\n",
    " \n",
    "Dataset  : https://raw.githubusercontent.com/mwitiderrick/stockprice/master/NSE-TATAGLOBAL.csv"
   ]
  },
  {
   "cell_type": "markdown",
   "metadata": {
    "id": "dxK1bXQmSEp3"
   },
   "source": [
    "Importing Required Libraries\n"
   ]
  },
  {
   "cell_type": "code",
   "execution_count": 2,
   "metadata": {
    "id": "eUpcHCqjSH2-"
   },
   "outputs": [],
   "source": [
    "import numpy as np\n",
    "import pandas as pd\n",
    "import matplotlib.pyplot as plt\n",
    "import tensorflow as tf\n",
    "from sklearn.preprocessing import MinMaxScaler\n",
    "\n",
    "import warnings\n",
    "warnings.filterwarnings(\"ignore\")\n"
   ]
  },
  {
   "cell_type": "markdown",
   "metadata": {
    "id": "bCeEdbMdSaCA"
   },
   "source": [
    "Reading The Dataset"
   ]
  },
  {
   "cell_type": "code",
   "execution_count": 3,
   "metadata": {
    "id": "aBHxMooqSVif"
   },
   "outputs": [],
   "source": [
    "data = pd.read_csv(\"https://raw.githubusercontent.com/mwitiderrick/stockprice/master/NSE-TATAGLOBAL.csv\")"
   ]
  },
  {
   "cell_type": "code",
   "execution_count": 4,
   "metadata": {
    "colab": {
     "base_uri": "https://localhost:8080/",
     "height": 206
    },
    "id": "p8gtGfz0Sgi2",
    "outputId": "221544af-0700-4461-dd3a-548fcd8741af"
   },
   "outputs": [
    {
     "data": {
      "text/html": [
       "<div>\n",
       "<style scoped>\n",
       "    .dataframe tbody tr th:only-of-type {\n",
       "        vertical-align: middle;\n",
       "    }\n",
       "\n",
       "    .dataframe tbody tr th {\n",
       "        vertical-align: top;\n",
       "    }\n",
       "\n",
       "    .dataframe thead th {\n",
       "        text-align: right;\n",
       "    }\n",
       "</style>\n",
       "<table border=\"1\" class=\"dataframe\">\n",
       "  <thead>\n",
       "    <tr style=\"text-align: right;\">\n",
       "      <th></th>\n",
       "      <th>Date</th>\n",
       "      <th>Open</th>\n",
       "      <th>High</th>\n",
       "      <th>Low</th>\n",
       "      <th>Last</th>\n",
       "      <th>Close</th>\n",
       "      <th>Total Trade Quantity</th>\n",
       "      <th>Turnover (Lacs)</th>\n",
       "    </tr>\n",
       "  </thead>\n",
       "  <tbody>\n",
       "    <tr>\n",
       "      <th>0</th>\n",
       "      <td>2018-09-28</td>\n",
       "      <td>234.05</td>\n",
       "      <td>235.95</td>\n",
       "      <td>230.20</td>\n",
       "      <td>233.50</td>\n",
       "      <td>233.75</td>\n",
       "      <td>3069914</td>\n",
       "      <td>7162.35</td>\n",
       "    </tr>\n",
       "    <tr>\n",
       "      <th>1</th>\n",
       "      <td>2018-09-27</td>\n",
       "      <td>234.55</td>\n",
       "      <td>236.80</td>\n",
       "      <td>231.10</td>\n",
       "      <td>233.80</td>\n",
       "      <td>233.25</td>\n",
       "      <td>5082859</td>\n",
       "      <td>11859.95</td>\n",
       "    </tr>\n",
       "    <tr>\n",
       "      <th>2</th>\n",
       "      <td>2018-09-26</td>\n",
       "      <td>240.00</td>\n",
       "      <td>240.00</td>\n",
       "      <td>232.50</td>\n",
       "      <td>235.00</td>\n",
       "      <td>234.25</td>\n",
       "      <td>2240909</td>\n",
       "      <td>5248.60</td>\n",
       "    </tr>\n",
       "    <tr>\n",
       "      <th>3</th>\n",
       "      <td>2018-09-25</td>\n",
       "      <td>233.30</td>\n",
       "      <td>236.75</td>\n",
       "      <td>232.00</td>\n",
       "      <td>236.25</td>\n",
       "      <td>236.10</td>\n",
       "      <td>2349368</td>\n",
       "      <td>5503.90</td>\n",
       "    </tr>\n",
       "    <tr>\n",
       "      <th>4</th>\n",
       "      <td>2018-09-24</td>\n",
       "      <td>233.55</td>\n",
       "      <td>239.20</td>\n",
       "      <td>230.75</td>\n",
       "      <td>234.00</td>\n",
       "      <td>233.30</td>\n",
       "      <td>3423509</td>\n",
       "      <td>7999.55</td>\n",
       "    </tr>\n",
       "  </tbody>\n",
       "</table>\n",
       "</div>"
      ],
      "text/plain": [
       "         Date    Open    High  ...   Close  Total Trade Quantity  Turnover (Lacs)\n",
       "0  2018-09-28  234.05  235.95  ...  233.75               3069914          7162.35\n",
       "1  2018-09-27  234.55  236.80  ...  233.25               5082859         11859.95\n",
       "2  2018-09-26  240.00  240.00  ...  234.25               2240909          5248.60\n",
       "3  2018-09-25  233.30  236.75  ...  236.10               2349368          5503.90\n",
       "4  2018-09-24  233.55  239.20  ...  233.30               3423509          7999.55\n",
       "\n",
       "[5 rows x 8 columns]"
      ]
     },
     "execution_count": 4,
     "metadata": {},
     "output_type": "execute_result"
    }
   ],
   "source": [
    "data.head()"
   ]
  },
  {
   "cell_type": "code",
   "execution_count": 5,
   "metadata": {
    "colab": {
     "base_uri": "https://localhost:8080/",
     "height": 206
    },
    "id": "4eL1AWqOTBkb",
    "outputId": "5b56b6f8-9d63-48bc-b233-ab484cf48e23"
   },
   "outputs": [
    {
     "data": {
      "text/html": [
       "<div>\n",
       "<style scoped>\n",
       "    .dataframe tbody tr th:only-of-type {\n",
       "        vertical-align: middle;\n",
       "    }\n",
       "\n",
       "    .dataframe tbody tr th {\n",
       "        vertical-align: top;\n",
       "    }\n",
       "\n",
       "    .dataframe thead th {\n",
       "        text-align: right;\n",
       "    }\n",
       "</style>\n",
       "<table border=\"1\" class=\"dataframe\">\n",
       "  <thead>\n",
       "    <tr style=\"text-align: right;\">\n",
       "      <th></th>\n",
       "      <th>Date</th>\n",
       "      <th>Open</th>\n",
       "      <th>High</th>\n",
       "      <th>Low</th>\n",
       "      <th>Last</th>\n",
       "      <th>Close</th>\n",
       "      <th>Total Trade Quantity</th>\n",
       "      <th>Turnover (Lacs)</th>\n",
       "    </tr>\n",
       "  </thead>\n",
       "  <tbody>\n",
       "    <tr>\n",
       "      <th>2030</th>\n",
       "      <td>2010-07-27</td>\n",
       "      <td>117.6</td>\n",
       "      <td>119.50</td>\n",
       "      <td>112.00</td>\n",
       "      <td>118.80</td>\n",
       "      <td>118.65</td>\n",
       "      <td>586100</td>\n",
       "      <td>694.98</td>\n",
       "    </tr>\n",
       "    <tr>\n",
       "      <th>2031</th>\n",
       "      <td>2010-07-26</td>\n",
       "      <td>120.1</td>\n",
       "      <td>121.00</td>\n",
       "      <td>117.10</td>\n",
       "      <td>117.10</td>\n",
       "      <td>117.60</td>\n",
       "      <td>658440</td>\n",
       "      <td>780.01</td>\n",
       "    </tr>\n",
       "    <tr>\n",
       "      <th>2032</th>\n",
       "      <td>2010-07-23</td>\n",
       "      <td>121.8</td>\n",
       "      <td>121.95</td>\n",
       "      <td>120.25</td>\n",
       "      <td>120.35</td>\n",
       "      <td>120.65</td>\n",
       "      <td>281312</td>\n",
       "      <td>340.31</td>\n",
       "    </tr>\n",
       "    <tr>\n",
       "      <th>2033</th>\n",
       "      <td>2010-07-22</td>\n",
       "      <td>120.3</td>\n",
       "      <td>122.00</td>\n",
       "      <td>120.25</td>\n",
       "      <td>120.75</td>\n",
       "      <td>120.90</td>\n",
       "      <td>293312</td>\n",
       "      <td>355.17</td>\n",
       "    </tr>\n",
       "    <tr>\n",
       "      <th>2034</th>\n",
       "      <td>2010-07-21</td>\n",
       "      <td>122.1</td>\n",
       "      <td>123.00</td>\n",
       "      <td>121.05</td>\n",
       "      <td>121.10</td>\n",
       "      <td>121.55</td>\n",
       "      <td>658666</td>\n",
       "      <td>803.56</td>\n",
       "    </tr>\n",
       "  </tbody>\n",
       "</table>\n",
       "</div>"
      ],
      "text/plain": [
       "            Date   Open    High  ...   Close  Total Trade Quantity  Turnover (Lacs)\n",
       "2030  2010-07-27  117.6  119.50  ...  118.65                586100           694.98\n",
       "2031  2010-07-26  120.1  121.00  ...  117.60                658440           780.01\n",
       "2032  2010-07-23  121.8  121.95  ...  120.65                281312           340.31\n",
       "2033  2010-07-22  120.3  122.00  ...  120.90                293312           355.17\n",
       "2034  2010-07-21  122.1  123.00  ...  121.55                658666           803.56\n",
       "\n",
       "[5 rows x 8 columns]"
      ]
     },
     "execution_count": 5,
     "metadata": {},
     "output_type": "execute_result"
    }
   ],
   "source": [
    "data.tail()"
   ]
  },
  {
   "cell_type": "markdown",
   "metadata": {
    "id": "bkdMrjKxTIX6"
   },
   "source": [
    "Data Sorting"
   ]
  },
  {
   "cell_type": "code",
   "execution_count": 6,
   "metadata": {
    "colab": {
     "base_uri": "https://localhost:8080/"
    },
    "id": "rc1VYmR7TE6Z",
    "outputId": "42f90d8c-7bf1-4ac5-db91-2fdbc65dfd91"
   },
   "outputs": [
    {
     "name": "stdout",
     "output_type": "stream",
     "text": [
      "<class 'pandas._libs.tslibs.timestamps.Timestamp'>\n"
     ]
    }
   ],
   "source": [
    "data['Date']=pd.to_datetime(data['Date'])\n",
    "print(type(data.Date[0]))"
   ]
  },
  {
   "cell_type": "code",
   "execution_count": 7,
   "metadata": {
    "colab": {
     "base_uri": "https://localhost:8080/",
     "height": 206
    },
    "id": "9NMvKw_zTMV9",
    "outputId": "f0714f52-bbc0-41d2-d510-759fb3f253eb"
   },
   "outputs": [
    {
     "data": {
      "text/html": [
       "<div>\n",
       "<style scoped>\n",
       "    .dataframe tbody tr th:only-of-type {\n",
       "        vertical-align: middle;\n",
       "    }\n",
       "\n",
       "    .dataframe tbody tr th {\n",
       "        vertical-align: top;\n",
       "    }\n",
       "\n",
       "    .dataframe thead th {\n",
       "        text-align: right;\n",
       "    }\n",
       "</style>\n",
       "<table border=\"1\" class=\"dataframe\">\n",
       "  <thead>\n",
       "    <tr style=\"text-align: right;\">\n",
       "      <th></th>\n",
       "      <th>Date</th>\n",
       "      <th>Open</th>\n",
       "      <th>High</th>\n",
       "      <th>Low</th>\n",
       "      <th>Last</th>\n",
       "      <th>Close</th>\n",
       "      <th>Total Trade Quantity</th>\n",
       "      <th>Turnover (Lacs)</th>\n",
       "    </tr>\n",
       "  </thead>\n",
       "  <tbody>\n",
       "    <tr>\n",
       "      <th>2034</th>\n",
       "      <td>2010-07-21</td>\n",
       "      <td>122.1</td>\n",
       "      <td>123.00</td>\n",
       "      <td>121.05</td>\n",
       "      <td>121.10</td>\n",
       "      <td>121.55</td>\n",
       "      <td>658666</td>\n",
       "      <td>803.56</td>\n",
       "    </tr>\n",
       "    <tr>\n",
       "      <th>2033</th>\n",
       "      <td>2010-07-22</td>\n",
       "      <td>120.3</td>\n",
       "      <td>122.00</td>\n",
       "      <td>120.25</td>\n",
       "      <td>120.75</td>\n",
       "      <td>120.90</td>\n",
       "      <td>293312</td>\n",
       "      <td>355.17</td>\n",
       "    </tr>\n",
       "    <tr>\n",
       "      <th>2032</th>\n",
       "      <td>2010-07-23</td>\n",
       "      <td>121.8</td>\n",
       "      <td>121.95</td>\n",
       "      <td>120.25</td>\n",
       "      <td>120.35</td>\n",
       "      <td>120.65</td>\n",
       "      <td>281312</td>\n",
       "      <td>340.31</td>\n",
       "    </tr>\n",
       "    <tr>\n",
       "      <th>2031</th>\n",
       "      <td>2010-07-26</td>\n",
       "      <td>120.1</td>\n",
       "      <td>121.00</td>\n",
       "      <td>117.10</td>\n",
       "      <td>117.10</td>\n",
       "      <td>117.60</td>\n",
       "      <td>658440</td>\n",
       "      <td>780.01</td>\n",
       "    </tr>\n",
       "    <tr>\n",
       "      <th>2030</th>\n",
       "      <td>2010-07-27</td>\n",
       "      <td>117.6</td>\n",
       "      <td>119.50</td>\n",
       "      <td>112.00</td>\n",
       "      <td>118.80</td>\n",
       "      <td>118.65</td>\n",
       "      <td>586100</td>\n",
       "      <td>694.98</td>\n",
       "    </tr>\n",
       "  </tbody>\n",
       "</table>\n",
       "</div>"
      ],
      "text/plain": [
       "           Date   Open    High  ...   Close  Total Trade Quantity  Turnover (Lacs)\n",
       "2034 2010-07-21  122.1  123.00  ...  121.55                658666           803.56\n",
       "2033 2010-07-22  120.3  122.00  ...  120.90                293312           355.17\n",
       "2032 2010-07-23  121.8  121.95  ...  120.65                281312           340.31\n",
       "2031 2010-07-26  120.1  121.00  ...  117.60                658440           780.01\n",
       "2030 2010-07-27  117.6  119.50  ...  118.65                586100           694.98\n",
       "\n",
       "[5 rows x 8 columns]"
      ]
     },
     "execution_count": 7,
     "metadata": {},
     "output_type": "execute_result"
    }
   ],
   "source": [
    "df=data.sort_values(by='Date')\n",
    "df.head()"
   ]
  },
  {
   "cell_type": "code",
   "execution_count": 8,
   "metadata": {
    "id": "ZFeGgV9ETSe8"
   },
   "outputs": [],
   "source": [
    "df.reset_index(inplace=True)"
   ]
  },
  {
   "cell_type": "code",
   "execution_count": 9,
   "metadata": {
    "colab": {
     "base_uri": "https://localhost:8080/",
     "height": 206
    },
    "id": "XNg2LmY6TWnB",
    "outputId": "6749a3e8-fbf8-42f9-9914-38382ce95ff0"
   },
   "outputs": [
    {
     "data": {
      "text/html": [
       "<div>\n",
       "<style scoped>\n",
       "    .dataframe tbody tr th:only-of-type {\n",
       "        vertical-align: middle;\n",
       "    }\n",
       "\n",
       "    .dataframe tbody tr th {\n",
       "        vertical-align: top;\n",
       "    }\n",
       "\n",
       "    .dataframe thead th {\n",
       "        text-align: right;\n",
       "    }\n",
       "</style>\n",
       "<table border=\"1\" class=\"dataframe\">\n",
       "  <thead>\n",
       "    <tr style=\"text-align: right;\">\n",
       "      <th></th>\n",
       "      <th>index</th>\n",
       "      <th>Date</th>\n",
       "      <th>Open</th>\n",
       "      <th>High</th>\n",
       "      <th>Low</th>\n",
       "      <th>Last</th>\n",
       "      <th>Close</th>\n",
       "      <th>Total Trade Quantity</th>\n",
       "      <th>Turnover (Lacs)</th>\n",
       "    </tr>\n",
       "  </thead>\n",
       "  <tbody>\n",
       "    <tr>\n",
       "      <th>0</th>\n",
       "      <td>2034</td>\n",
       "      <td>2010-07-21</td>\n",
       "      <td>122.1</td>\n",
       "      <td>123.00</td>\n",
       "      <td>121.05</td>\n",
       "      <td>121.10</td>\n",
       "      <td>121.55</td>\n",
       "      <td>658666</td>\n",
       "      <td>803.56</td>\n",
       "    </tr>\n",
       "    <tr>\n",
       "      <th>1</th>\n",
       "      <td>2033</td>\n",
       "      <td>2010-07-22</td>\n",
       "      <td>120.3</td>\n",
       "      <td>122.00</td>\n",
       "      <td>120.25</td>\n",
       "      <td>120.75</td>\n",
       "      <td>120.90</td>\n",
       "      <td>293312</td>\n",
       "      <td>355.17</td>\n",
       "    </tr>\n",
       "    <tr>\n",
       "      <th>2</th>\n",
       "      <td>2032</td>\n",
       "      <td>2010-07-23</td>\n",
       "      <td>121.8</td>\n",
       "      <td>121.95</td>\n",
       "      <td>120.25</td>\n",
       "      <td>120.35</td>\n",
       "      <td>120.65</td>\n",
       "      <td>281312</td>\n",
       "      <td>340.31</td>\n",
       "    </tr>\n",
       "    <tr>\n",
       "      <th>3</th>\n",
       "      <td>2031</td>\n",
       "      <td>2010-07-26</td>\n",
       "      <td>120.1</td>\n",
       "      <td>121.00</td>\n",
       "      <td>117.10</td>\n",
       "      <td>117.10</td>\n",
       "      <td>117.60</td>\n",
       "      <td>658440</td>\n",
       "      <td>780.01</td>\n",
       "    </tr>\n",
       "    <tr>\n",
       "      <th>4</th>\n",
       "      <td>2030</td>\n",
       "      <td>2010-07-27</td>\n",
       "      <td>117.6</td>\n",
       "      <td>119.50</td>\n",
       "      <td>112.00</td>\n",
       "      <td>118.80</td>\n",
       "      <td>118.65</td>\n",
       "      <td>586100</td>\n",
       "      <td>694.98</td>\n",
       "    </tr>\n",
       "  </tbody>\n",
       "</table>\n",
       "</div>"
      ],
      "text/plain": [
       "   index       Date   Open  ...   Close  Total Trade Quantity  Turnover (Lacs)\n",
       "0   2034 2010-07-21  122.1  ...  121.55                658666           803.56\n",
       "1   2033 2010-07-22  120.3  ...  120.90                293312           355.17\n",
       "2   2032 2010-07-23  121.8  ...  120.65                281312           340.31\n",
       "3   2031 2010-07-26  120.1  ...  117.60                658440           780.01\n",
       "4   2030 2010-07-27  117.6  ...  118.65                586100           694.98\n",
       "\n",
       "[5 rows x 9 columns]"
      ]
     },
     "execution_count": 9,
     "metadata": {},
     "output_type": "execute_result"
    }
   ],
   "source": [
    "df.head()"
   ]
  },
  {
   "cell_type": "markdown",
   "metadata": {
    "id": "ehIUdSAXTcYJ"
   },
   "source": [
    "Visualization\n"
   ]
  },
  {
   "cell_type": "code",
   "execution_count": 10,
   "metadata": {
    "colab": {
     "base_uri": "https://localhost:8080/",
     "height": 282
    },
    "id": "oh8c-j5uTZse",
    "outputId": "60ee5bee-432c-42a2-a942-53cf639981c6"
   },
   "outputs": [
    {
     "data": {
      "text/plain": [
       "[<matplotlib.lines.Line2D at 0x7fc78795c590>]"
      ]
     },
     "execution_count": 10,
     "metadata": {},
     "output_type": "execute_result"
    },
    {
     "data": {
      "image/png": "[encoded data removed]",
      "text/plain": [
       "<Figure size 432x288 with 1 Axes>"
      ]
     },
     "metadata": {
      "needs_background": "light"
     },
     "output_type": "display_data"
    }
   ],
   "source": [
    "plt.plot(df['Close'])"
   ]
  },
  {
   "cell_type": "code",
   "execution_count": 11,
   "metadata": {
    "colab": {
     "base_uri": "https://localhost:8080/"
    },
    "id": "lls9FxxMTghs",
    "outputId": "a7b5fc7a-1cd6-4325-f587-877a3af80199"
   },
   "outputs": [
    {
     "data": {
      "text/plain": [
       "0       121.55\n",
       "1       120.90\n",
       "2       120.65\n",
       "3       117.60\n",
       "4       118.65\n",
       "         ...  \n",
       "2030    233.30\n",
       "2031    236.10\n",
       "2032    234.25\n",
       "2033    233.25\n",
       "2034    233.75\n",
       "Name: Close, Length: 2035, dtype: float64"
      ]
     },
     "execution_count": 11,
     "metadata": {},
     "output_type": "execute_result"
    }
   ],
   "source": [
    "dff=df['Close']\n",
    "dff"
   ]
  },
  {
   "cell_type": "markdown",
   "metadata": {
    "id": "kEAmyiQOTn5c"
   },
   "source": [
    "Min Max Scalar"
   ]
  },
  {
   "cell_type": "code",
   "execution_count": 13,
   "metadata": {
    "colab": {
     "base_uri": "https://localhost:8080/"
    },
    "id": "rLbHmVgmTkJU",
    "outputId": "0abdc6bb-445c-4423-f76d-a5361bbbad2a"
   },
   "outputs": [
    {
     "data": {
      "text/plain": [
       "array([[0.16584967],\n",
       "       [0.16319444],\n",
       "       [0.1621732 ],\n",
       "       ...,\n",
       "       [0.62622549],\n",
       "       [0.62214052],\n",
       "       [0.62418301]])"
      ]
     },
     "execution_count": 13,
     "metadata": {},
     "output_type": "execute_result"
    }
   ],
   "source": [
    "scaler=MinMaxScaler(feature_range=(0,1))\n",
    "dff=scaler.fit_transform(np.array(dff).reshape(-1,1))\n",
    "dff\n"
   ]
  },
  {
   "cell_type": "markdown",
   "metadata": {
    "id": "2_15ghFnTm5S"
   },
   "source": [
    "Splitting the Dataset"
   ]
  },
  {
   "cell_type": "code",
   "execution_count": 14,
   "metadata": {
    "id": "Adgge0CeT339"
   },
   "outputs": [],
   "source": [
    "training_size=int(len(dff)*0.70)\n",
    "test_size=len(dff)-training_size\n",
    "train_data,test_data=dff[0:training_size,:],dff[training_size:len(dff),:1]"
   ]
  },
  {
   "cell_type": "markdown",
   "metadata": {
    "id": "nMAp5y2VT-S1"
   },
   "source": [
    "Convert an array of values into a dataset matrix"
   ]
  },
  {
   "cell_type": "code",
   "execution_count": 15,
   "metadata": {
    "id": "xjrc0g07T7J0"
   },
   "outputs": [],
   "source": [
    "def create_dataset(dataset, time_step=1):\n",
    "\tdataX, dataY = [], []\n",
    "\tfor i in range(len(dataset)-time_step-1):\n",
    "\t\ta = dataset[i:(i+time_step), 0]   \n",
    "\t\tdataX.append(a)\n",
    "\t\tdataY.append(dataset[i + time_step, 0])\n",
    "\treturn np.array(dataX), np.array(dataY)"
   ]
  },
  {
   "cell_type": "markdown",
   "metadata": {
    "id": "f1-p1ba6UFqV"
   },
   "source": [
    "Splitting Data into Train and Test"
   ]
  },
  {
   "cell_type": "code",
   "execution_count": 16,
   "metadata": {
    "id": "yYO9UXq1UB-3"
   },
   "outputs": [],
   "source": [
    "time_step = 50\n",
    "X_train, y_train = create_dataset(train_data, time_step)\n",
    "X_test, ytest = create_dataset(test_data, time_step)"
   ]
  },
  {
   "cell_type": "code",
   "execution_count": 17,
   "metadata": {
    "colab": {
     "base_uri": "https://localhost:8080/"
    },
    "id": "2eBUmPh3UJvv",
    "outputId": "5da3fc04-f8c0-4954-cc90-12655b91f719"
   },
   "outputs": [
    {
     "name": "stdout",
     "output_type": "stream",
     "text": [
      "(1373, 50)\n",
      "(1373,)\n"
     ]
    },
    {
     "data": {
      "text/plain": [
       "(None, None)"
      ]
     },
     "execution_count": 17,
     "metadata": {},
     "output_type": "execute_result"
    }
   ],
   "source": [
    "print(X_train.shape), print(y_train.shape)"
   ]
  },
  {
   "cell_type": "code",
   "execution_count": 18,
   "metadata": {
    "colab": {
     "base_uri": "https://localhost:8080/"
    },
    "id": "XMohkFdMUOqI",
    "outputId": "ba65592b-9362-4240-a08a-174d4ef61741"
   },
   "outputs": [
    {
     "name": "stdout",
     "output_type": "stream",
     "text": [
      "(560, 50)\n",
      "(560,)\n"
     ]
    },
    {
     "data": {
      "text/plain": [
       "(None, None)"
      ]
     },
     "execution_count": 18,
     "metadata": {},
     "output_type": "execute_result"
    }
   ],
   "source": [
    "print(X_test.shape), print(ytest.shape)"
   ]
  },
  {
   "cell_type": "code",
   "execution_count": 19,
   "metadata": {
    "id": "Qy89DkDsURhB"
   },
   "outputs": [],
   "source": [
    "X_train =X_train.reshape(X_train.shape[0],X_train.shape[1] , 1)\n",
    "X_test = X_test.reshape(X_test.shape[0],X_test.shape[1] , 1)"
   ]
  },
  {
   "cell_type": "markdown",
   "metadata": {
    "id": "2k2LgJcbUWf9"
   },
   "source": [
    "Creating the LSTM Model"
   ]
  },
  {
   "cell_type": "code",
   "execution_count": 20,
   "metadata": {
    "id": "aCkr_5pmUUIR"
   },
   "outputs": [],
   "source": [
    "from tensorflow.keras.models import Sequential\n",
    "from tensorflow.keras.layers import Dense\n",
    "from tensorflow.keras.layers import LSTM"
   ]
  },
  {
   "cell_type": "code",
   "execution_count": 21,
   "metadata": {
    "colab": {
     "base_uri": "https://localhost:8080/"
    },
    "id": "F_FFYjy_UZo-",
    "outputId": "314e4241-866f-4207-b29e-8665f36b0518"
   },
   "outputs": [
    {
     "name": "stdout",
     "output_type": "stream",
     "text": [
      "Model: \"sequential\"\n",
      "_________________________________________________________________\n",
      " Layer (type)                Output Shape              Param #   \n",
      "=================================================================\n",
      " lstm (LSTM)                 (None, 50, 25)            2700      \n",
      "                                                                 \n",
      " lstm_1 (LSTM)               (None, 50, 25)            5100      \n",
      "                                                                 \n",
      " lstm_2 (LSTM)               (None, 25)                5100      \n",
      "                                                                 \n",
      " dense (Dense)               (None, 1)                 26        \n",
      "                                                                 \n",
      "=================================================================\n",
      "Total params: 12,926\n",
      "Trainable params: 12,926\n",
      "Non-trainable params: 0\n",
      "_________________________________________________________________\n"
     ]
    }
   ],
   "source": [
    "model=Sequential()\n",
    "model.add(LSTM(25,return_sequences=True,input_shape=(50,1)))\n",
    "model.add(LSTM(25,return_sequences=True))\n",
    "model.add(LSTM(25))\n",
    "model.add(Dense(1))\n",
    "model.compile(loss='mean_squared_error',optimizer='adam')\n",
    "model.summary()"
   ]
  },
  {
   "cell_type": "code",
   "execution_count": 22,
   "metadata": {
    "colab": {
     "base_uri": "https://localhost:8080/"
    },
    "id": "yXP-9rqrUb7n",
    "outputId": "875c32a4-86cb-4dd0-95a4-ea36d783a365"
   },
   "outputs": [
    {
     "name": "stdout",
     "output_type": "stream",
     "text": [
      "Epoch 1/30\n",
      "20/20 [==============================] - 8s 136ms/step - loss: 0.0190 - val_loss: 0.0016\n",
      "Epoch 2/30\n",
      "20/20 [==============================] - 1s 73ms/step - loss: 0.0037 - val_loss: 0.0018\n",
      "Epoch 3/30\n",
      "20/20 [==============================] - 1s 70ms/step - loss: 0.0014 - val_loss: 0.0014\n",
      "Epoch 4/30\n",
      "20/20 [==============================] - 1s 70ms/step - loss: 0.0010 - val_loss: 0.0014\n",
      "Epoch 5/30\n",
      "20/20 [==============================] - 1s 70ms/step - loss: 9.9437e-04 - val_loss: 0.0013\n",
      "Epoch 6/30\n",
      "20/20 [==============================] - 1s 70ms/step - loss: 9.5558e-04 - val_loss: 0.0013\n",
      "Epoch 7/30\n",
      "20/20 [==============================] - 1s 70ms/step - loss: 9.2705e-04 - val_loss: 0.0013\n",
      "Epoch 8/30\n",
      "20/20 [==============================] - 2s 77ms/step - loss: 8.9915e-04 - val_loss: 0.0012\n",
      "Epoch 9/30\n",
      "20/20 [==============================] - 1s 69ms/step - loss: 8.7476e-04 - val_loss: 0.0012\n",
      "Epoch 10/30\n",
      "20/20 [==============================] - 1s 69ms/step - loss: 8.4103e-04 - val_loss: 0.0011\n",
      "Epoch 11/30\n",
      "20/20 [==============================] - 1s 69ms/step - loss: 8.1568e-04 - val_loss: 0.0011\n",
      "Epoch 12/30\n",
      "20/20 [==============================] - 1s 71ms/step - loss: 7.8104e-04 - val_loss: 9.9764e-04\n",
      "Epoch 13/30\n",
      "20/20 [==============================] - 1s 70ms/step - loss: 7.5304e-04 - val_loss: 9.3978e-04\n",
      "Epoch 14/30\n",
      "20/20 [==============================] - 1s 73ms/step - loss: 7.2716e-04 - val_loss: 9.1878e-04\n",
      "Epoch 15/30\n",
      "20/20 [==============================] - 1s 69ms/step - loss: 7.4524e-04 - val_loss: 9.2314e-04\n",
      "Epoch 16/30\n",
      "20/20 [==============================] - 1s 71ms/step - loss: 7.0213e-04 - val_loss: 8.6898e-04\n",
      "Epoch 17/30\n",
      "20/20 [==============================] - 1s 72ms/step - loss: 6.7457e-04 - val_loss: 7.7831e-04\n",
      "Epoch 18/30\n",
      "20/20 [==============================] - 1s 72ms/step - loss: 6.5151e-04 - val_loss: 7.3573e-04\n",
      "Epoch 19/30\n",
      "20/20 [==============================] - 1s 70ms/step - loss: 6.9054e-04 - val_loss: 7.1751e-04\n",
      "Epoch 20/30\n",
      "20/20 [==============================] - 1s 72ms/step - loss: 6.8863e-04 - val_loss: 7.6288e-04\n",
      "Epoch 21/30\n",
      "20/20 [==============================] - 1s 72ms/step - loss: 6.0994e-04 - val_loss: 6.7444e-04\n",
      "Epoch 22/30\n",
      "20/20 [==============================] - 1s 70ms/step - loss: 5.9076e-04 - val_loss: 7.2190e-04\n",
      "Epoch 23/30\n",
      "20/20 [==============================] - 1s 71ms/step - loss: 5.7893e-04 - val_loss: 6.9793e-04\n",
      "Epoch 24/30\n",
      "20/20 [==============================] - 1s 72ms/step - loss: 5.6346e-04 - val_loss: 6.6993e-04\n",
      "Epoch 25/30\n",
      "20/20 [==============================] - 1s 72ms/step - loss: 5.6330e-04 - val_loss: 6.3912e-04\n",
      "Epoch 26/30\n",
      "20/20 [==============================] - 1s 71ms/step - loss: 5.4926e-04 - val_loss: 6.0353e-04\n",
      "Epoch 27/30\n",
      "20/20 [==============================] - 1s 72ms/step - loss: 5.3647e-04 - val_loss: 5.9879e-04\n",
      "Epoch 28/30\n",
      "20/20 [==============================] - 1s 71ms/step - loss: 5.3978e-04 - val_loss: 5.6799e-04\n",
      "Epoch 29/30\n",
      "20/20 [==============================] - 1s 71ms/step - loss: 5.6070e-04 - val_loss: 5.5091e-04\n",
      "Epoch 30/30\n",
      "20/20 [==============================] - 1s 71ms/step - loss: 5.3181e-04 - val_loss: 5.2649e-04\n"
     ]
    },
    {
     "data": {
      "text/plain": [
       "<keras.callbacks.History at 0x7fc783149510>"
      ]
     },
     "execution_count": 22,
     "metadata": {},
     "output_type": "execute_result"
    }
   ],
   "source": [
    "model.fit(X_train,y_train,validation_split=0.1,epochs=30,batch_size=64,verbose=1)"
   ]
  },
  {
   "cell_type": "markdown",
   "metadata": {
    "id": "rgssCwf7Un4q"
   },
   "source": [
    "Prediction And Checking Performance"
   ]
  },
  {
   "cell_type": "code",
   "execution_count": 23,
   "metadata": {
    "id": "OxZSCWyLUeov"
   },
   "outputs": [],
   "source": [
    "test_predict=model.predict(X_test)"
   ]
  },
  {
   "cell_type": "code",
   "execution_count": 24,
   "metadata": {
    "colab": {
     "base_uri": "https://localhost:8080/"
    },
    "id": "t1y0EeFaU5nc",
    "outputId": "d8c13609-e584-400b-dca4-6ad5340455d4"
   },
   "outputs": [
    {
     "data": {
      "text/plain": [
       "array([[126.35498 ],\n",
       "       [126.28453 ],\n",
       "       [126.20189 ],\n",
       "       [126.21658 ],\n",
       "       [126.408455],\n",
       "       [126.89767 ],\n",
       "       [127.642914],\n",
       "       [128.55594 ],\n",
       "       [129.55658 ],\n",
       "       [130.49643 ],\n",
       "       [131.30597 ],\n",
       "       [131.93817 ],\n",
       "       [132.35461 ],\n",
       "       [132.57648 ],\n",
       "       [132.6372  ],\n",
       "       [132.48808 ],\n",
       "       [132.15807 ],\n",
       "       [131.82906 ],\n",
       "       [131.51685 ],\n",
       "       [131.23447 ],\n",
       "       [131.0592  ],\n",
       "       [130.93275 ],\n",
       "       [131.0441  ],\n",
       "       [131.5123  ],\n",
       "       [132.38297 ],\n",
       "       [133.53998 ],\n",
       "       [134.75781 ],\n",
       "       [135.79478 ],\n",
       "       [136.62775 ],\n",
       "       [137.26996 ],\n",
       "       [137.86826 ],\n",
       "       [138.47823 ],\n",
       "       [138.90883 ],\n",
       "       [139.08864 ],\n",
       "       [139.00691 ],\n",
       "       [138.74425 ],\n",
       "       [138.35938 ],\n",
       "       [137.95738 ],\n",
       "       [137.68405 ],\n",
       "       [137.48735 ],\n",
       "       [137.3905  ],\n",
       "       [137.40923 ],\n",
       "       [137.53664 ],\n",
       "       [137.72798 ],\n",
       "       [137.91653 ],\n",
       "       [138.1114  ],\n",
       "       [138.3073  ],\n",
       "       [138.526   ],\n",
       "       [138.78185 ],\n",
       "       [139.071   ],\n",
       "       [139.39217 ],\n",
       "       [139.72682 ],\n",
       "       [139.96394 ],\n",
       "       [139.91322 ],\n",
       "       [139.62828 ],\n",
       "       [139.15857 ],\n",
       "       [138.6776  ],\n",
       "       [138.27658 ],\n",
       "       [137.93288 ],\n",
       "       [137.64734 ],\n",
       "       [137.44977 ],\n",
       "       [137.46617 ],\n",
       "       [137.64609 ],\n",
       "       [138.0775  ],\n",
       "       [138.80919 ],\n",
       "       [139.43617 ],\n",
       "       [139.89255 ],\n",
       "       [140.24567 ],\n",
       "       [140.50276 ],\n",
       "       [141.08763 ],\n",
       "       [141.99524 ],\n",
       "       [143.16174 ],\n",
       "       [144.4836  ],\n",
       "       [145.69641 ],\n",
       "       [146.86064 ],\n",
       "       [147.83728 ],\n",
       "       [148.63075 ],\n",
       "       [149.33583 ],\n",
       "       [149.88896 ],\n",
       "       [150.2809  ],\n",
       "       [150.57486 ],\n",
       "       [150.64665 ],\n",
       "       [150.3215  ],\n",
       "       [149.33588 ],\n",
       "       [147.83237 ],\n",
       "       [145.98734 ],\n",
       "       [143.98236 ],\n",
       "       [141.87576 ],\n",
       "       [139.67828 ],\n",
       "       [137.3491  ],\n",
       "       [135.0369  ],\n",
       "       [132.86888 ],\n",
       "       [130.77399 ],\n",
       "       [128.92007 ],\n",
       "       [127.17548 ],\n",
       "       [125.4922  ],\n",
       "       [124.03642 ],\n",
       "       [122.79844 ],\n",
       "       [121.83258 ],\n",
       "       [121.009476],\n",
       "       [120.33164 ],\n",
       "       [119.80298 ],\n",
       "       [119.3399  ],\n",
       "       [119.011505],\n",
       "       [118.90273 ],\n",
       "       [119.04653 ],\n",
       "       [119.46804 ],\n",
       "       [120.05971 ],\n",
       "       [120.71615 ],\n",
       "       [121.41771 ],\n",
       "       [122.11219 ],\n",
       "       [122.7186  ],\n",
       "       [123.2405  ],\n",
       "       [123.67186 ],\n",
       "       [123.99108 ],\n",
       "       [124.19428 ],\n",
       "       [124.269775],\n",
       "       [124.28218 ],\n",
       "       [124.260994],\n",
       "       [124.22463 ],\n",
       "       [124.08809 ],\n",
       "       [123.847916],\n",
       "       [123.4555  ],\n",
       "       [122.912674],\n",
       "       [122.205414],\n",
       "       [121.49011 ],\n",
       "       [120.826546],\n",
       "       [120.30405 ],\n",
       "       [119.98234 ],\n",
       "       [119.91295 ],\n",
       "       [120.10682 ],\n",
       "       [120.520325],\n",
       "       [121.108826],\n",
       "       [121.78713 ],\n",
       "       [122.48394 ],\n",
       "       [123.13137 ],\n",
       "       [123.7828  ],\n",
       "       [124.36046 ],\n",
       "       [124.92826 ],\n",
       "       [125.47014 ],\n",
       "       [125.96555 ],\n",
       "       [126.42961 ],\n",
       "       [126.91613 ],\n",
       "       [127.29352 ],\n",
       "       [127.5637  ],\n",
       "       [127.74854 ],\n",
       "       [127.86129 ],\n",
       "       [127.94428 ],\n",
       "       [128.05801 ],\n",
       "       [128.16678 ],\n",
       "       [128.29652 ],\n",
       "       [128.69662 ],\n",
       "       [129.54881 ],\n",
       "       [130.8613  ],\n",
       "       [132.48326 ],\n",
       "       [134.39684 ],\n",
       "       [136.38919 ],\n",
       "       [138.28682 ],\n",
       "       [139.88467 ],\n",
       "       [141.05887 ],\n",
       "       [141.69487 ],\n",
       "       [141.86298 ],\n",
       "       [141.66379 ],\n",
       "       [141.26378 ],\n",
       "       [140.78204 ],\n",
       "       [140.24763 ],\n",
       "       [139.68112 ],\n",
       "       [139.10753 ],\n",
       "       [138.53157 ],\n",
       "       [138.17665 ],\n",
       "       [138.01457 ],\n",
       "       [138.0984  ],\n",
       "       [138.39886 ],\n",
       "       [138.84105 ],\n",
       "       [139.30692 ],\n",
       "       [139.70668 ],\n",
       "       [139.86807 ],\n",
       "       [139.8461  ],\n",
       "       [139.73952 ],\n",
       "       [139.74406 ],\n",
       "       [139.92375 ],\n",
       "       [140.33337 ],\n",
       "       [140.92058 ],\n",
       "       [141.51234 ],\n",
       "       [142.32237 ],\n",
       "       [143.33574 ],\n",
       "       [144.38612 ],\n",
       "       [145.4327  ],\n",
       "       [146.4115  ],\n",
       "       [147.25136 ],\n",
       "       [147.92769 ],\n",
       "       [148.47884 ],\n",
       "       [148.94437 ],\n",
       "       [149.35065 ],\n",
       "       [149.61115 ],\n",
       "       [149.72382 ],\n",
       "       [149.7961  ],\n",
       "       [149.80844 ],\n",
       "       [149.72282 ],\n",
       "       [149.50774 ],\n",
       "       [149.13475 ],\n",
       "       [148.7131  ],\n",
       "       [148.38031 ],\n",
       "       [148.15848 ],\n",
       "       [148.07709 ],\n",
       "       [148.11781 ],\n",
       "       [148.32896 ],\n",
       "       [148.62697 ],\n",
       "       [148.9943  ],\n",
       "       [149.56543 ],\n",
       "       [150.27176 ],\n",
       "       [151.0096  ],\n",
       "       [151.58855 ],\n",
       "       [151.95212 ],\n",
       "       [152.14996 ],\n",
       "       [152.24933 ],\n",
       "       [152.25919 ],\n",
       "       [152.15225 ],\n",
       "       [152.01863 ],\n",
       "       [151.89355 ],\n",
       "       [151.7375  ],\n",
       "       [151.35094 ],\n",
       "       [150.79527 ],\n",
       "       [150.07419 ],\n",
       "       [149.14026 ],\n",
       "       [147.94472 ],\n",
       "       [146.61772 ],\n",
       "       [145.42535 ],\n",
       "       [144.44154 ],\n",
       "       [143.71588 ],\n",
       "       [143.3952  ],\n",
       "       [143.58595 ],\n",
       "       [144.3251  ],\n",
       "       [145.50725 ],\n",
       "       [146.89453 ],\n",
       "       [148.39418 ],\n",
       "       [149.84218 ],\n",
       "       [151.11441 ],\n",
       "       [152.0505  ],\n",
       "       [152.77072 ],\n",
       "       [153.39337 ],\n",
       "       [153.98016 ],\n",
       "       [154.50452 ],\n",
       "       [154.87862 ],\n",
       "       [155.09586 ],\n",
       "       [155.16408 ],\n",
       "       [155.0303  ],\n",
       "       [154.58267 ],\n",
       "       [153.71358 ],\n",
       "       [152.56181 ],\n",
       "       [151.24695 ],\n",
       "       [149.98412 ],\n",
       "       [148.93622 ],\n",
       "       [148.12085 ],\n",
       "       [147.77275 ],\n",
       "       [147.80371 ],\n",
       "       [148.28807 ],\n",
       "       [149.47754 ],\n",
       "       [151.40051 ],\n",
       "       [154.02472 ],\n",
       "       [157.15797 ],\n",
       "       [160.44463 ],\n",
       "       [163.67598 ],\n",
       "       [166.49556 ],\n",
       "       [168.77464 ],\n",
       "       [170.30608 ],\n",
       "       [171.12637 ],\n",
       "       [171.25407 ],\n",
       "       [170.86606 ],\n",
       "       [170.17273 ],\n",
       "       [169.19191 ],\n",
       "       [168.06454 ],\n",
       "       [166.92743 ],\n",
       "       [165.80476 ],\n",
       "       [164.66774 ],\n",
       "       [163.62209 ],\n",
       "       [162.72467 ],\n",
       "       [162.16843 ],\n",
       "       [161.81567 ],\n",
       "       [161.46405 ],\n",
       "       [160.82724 ],\n",
       "       [160.1986  ],\n",
       "       [160.25058 ],\n",
       "       [161.68614 ],\n",
       "       [164.32953 ],\n",
       "       [167.94696 ],\n",
       "       [172.146   ],\n",
       "       [176.20653 ],\n",
       "       [179.96124 ],\n",
       "       [183.10959 ],\n",
       "       [185.49014 ],\n",
       "       [186.98225 ],\n",
       "       [187.90707 ],\n",
       "       [188.45735 ],\n",
       "       [188.73846 ],\n",
       "       [188.67586 ],\n",
       "       [188.44849 ],\n",
       "       [188.47844 ],\n",
       "       [188.82959 ],\n",
       "       [189.50276 ],\n",
       "       [190.49173 ],\n",
       "       [191.78339 ],\n",
       "       [193.07939 ],\n",
       "       [194.40805 ],\n",
       "       [195.64091 ],\n",
       "       [196.80664 ],\n",
       "       [197.97166 ],\n",
       "       [199.01729 ],\n",
       "       [199.84685 ],\n",
       "       [200.06166 ],\n",
       "       [199.51997 ],\n",
       "       [198.61473 ],\n",
       "       [197.33887 ],\n",
       "       [195.99863 ],\n",
       "       [194.8472  ],\n",
       "       [194.0139  ],\n",
       "       [193.47896 ],\n",
       "       [193.37791 ],\n",
       "       [193.67554 ],\n",
       "       [194.23155 ],\n",
       "       [194.93597 ],\n",
       "       [195.72365 ],\n",
       "       [196.6108  ],\n",
       "       [197.4747  ],\n",
       "       [198.22688 ],\n",
       "       [198.85262 ],\n",
       "       [199.21803 ],\n",
       "       [199.24767 ],\n",
       "       [198.92955 ],\n",
       "       [198.57011 ],\n",
       "       [198.12099 ],\n",
       "       [197.78407 ],\n",
       "       [197.98512 ],\n",
       "       [198.95229 ],\n",
       "       [200.56685 ],\n",
       "       [202.62196 ],\n",
       "       [204.8087  ],\n",
       "       [206.86375 ],\n",
       "       [208.95206 ],\n",
       "       [210.66687 ],\n",
       "       [211.90886 ],\n",
       "       [213.20683 ],\n",
       "       [214.46649 ],\n",
       "       [215.59064 ],\n",
       "       [216.93082 ],\n",
       "       [218.58566 ],\n",
       "       [220.48206 ],\n",
       "       [222.71729 ],\n",
       "       [225.58353 ],\n",
       "       [228.8109  ],\n",
       "       [232.15361 ],\n",
       "       [235.40195 ],\n",
       "       [238.49837 ],\n",
       "       [241.29782 ],\n",
       "       [244.01225 ],\n",
       "       [246.38933 ],\n",
       "       [248.56917 ],\n",
       "       [250.44409 ],\n",
       "       [251.88797 ],\n",
       "       [252.94928 ],\n",
       "       [253.55406 ],\n",
       "       [254.0112  ],\n",
       "       [254.51369 ],\n",
       "       [255.34787 ],\n",
       "       [256.20984 ],\n",
       "       [256.94315 ],\n",
       "       [257.5105  ],\n",
       "       [257.97906 ],\n",
       "       [258.46844 ],\n",
       "       [259.23688 ],\n",
       "       [260.25714 ],\n",
       "       [261.43027 ],\n",
       "       [262.7314  ],\n",
       "       [264.1569  ],\n",
       "       [265.61334 ],\n",
       "       [267.05014 ],\n",
       "       [268.65173 ],\n",
       "       [270.26416 ],\n",
       "       [271.76474 ],\n",
       "       [273.10098 ],\n",
       "       [274.27344 ],\n",
       "       [275.29218 ],\n",
       "       [276.2727  ],\n",
       "       [277.1561  ],\n",
       "       [277.90207 ],\n",
       "       [278.4905  ],\n",
       "       [279.23602 ],\n",
       "       [280.0648  ],\n",
       "       [280.77182 ],\n",
       "       [281.25882 ],\n",
       "       [281.33722 ],\n",
       "       [281.12787 ],\n",
       "       [280.7284  ],\n",
       "       [280.17828 ],\n",
       "       [279.4744  ],\n",
       "       [278.68216 ],\n",
       "       [277.80374 ],\n",
       "       [276.94882 ],\n",
       "       [275.8351  ],\n",
       "       [274.4573  ],\n",
       "       [272.5713  ],\n",
       "       [270.25696 ],\n",
       "       [267.5216  ],\n",
       "       [264.8886  ],\n",
       "       [262.53384 ],\n",
       "       [260.48706 ],\n",
       "       [258.95782 ],\n",
       "       [257.85486 ],\n",
       "       [257.04312 ],\n",
       "       [256.36627 ],\n",
       "       [255.57349 ],\n",
       "       [254.5172  ],\n",
       "       [253.34187 ],\n",
       "       [252.00739 ],\n",
       "       [250.82173 ],\n",
       "       [249.93187 ],\n",
       "       [249.39325 ],\n",
       "       [249.18513 ],\n",
       "       [249.22371 ],\n",
       "       [249.45387 ],\n",
       "       [249.76309 ],\n",
       "       [249.9484  ],\n",
       "       [250.10162 ],\n",
       "       [250.08937 ],\n",
       "       [250.13062 ],\n",
       "       [250.30482 ],\n",
       "       [250.60812 ],\n",
       "       [251.03497 ],\n",
       "       [251.3471  ],\n",
       "       [251.19434 ],\n",
       "       [250.64087 ],\n",
       "       [249.81348 ],\n",
       "       [248.70546 ],\n",
       "       [247.39572 ],\n",
       "       [246.10872 ],\n",
       "       [244.98096 ],\n",
       "       [243.92307 ],\n",
       "       [243.45793 ],\n",
       "       [243.52109 ],\n",
       "       [243.8826  ],\n",
       "       [244.49371 ],\n",
       "       [245.24115 ],\n",
       "       [246.1737  ],\n",
       "       [247.14934 ],\n",
       "       [248.04622 ],\n",
       "       [248.81548 ],\n",
       "       [249.48253 ],\n",
       "       [250.15688 ],\n",
       "       [250.86787 ],\n",
       "       [251.67647 ],\n",
       "       [252.6011  ],\n",
       "       [253.59053 ],\n",
       "       [254.51393 ],\n",
       "       [255.3132  ],\n",
       "       [256.1249  ],\n",
       "       [256.99216 ],\n",
       "       [257.90845 ],\n",
       "       [258.974   ],\n",
       "       [260.01144 ],\n",
       "       [260.80606 ],\n",
       "       [261.36752 ],\n",
       "       [261.8818  ],\n",
       "       [262.25888 ],\n",
       "       [262.56967 ],\n",
       "       [262.6589  ],\n",
       "       [262.60687 ],\n",
       "       [261.64862 ],\n",
       "       [259.531   ],\n",
       "       [256.43536 ],\n",
       "       [252.8338  ],\n",
       "       [248.96259 ],\n",
       "       [245.04224 ],\n",
       "       [241.37668 ],\n",
       "       [238.21382 ],\n",
       "       [235.7757  ],\n",
       "       [234.18675 ],\n",
       "       [233.47127 ],\n",
       "       [233.39949 ],\n",
       "       [233.99168 ],\n",
       "       [235.19836 ],\n",
       "       [236.63135 ],\n",
       "       [237.85187 ],\n",
       "       [238.9841  ],\n",
       "       [240.05045 ],\n",
       "       [241.06166 ],\n",
       "       [241.98659 ],\n",
       "       [242.70964 ],\n",
       "       [243.3311  ],\n",
       "       [243.91754 ],\n",
       "       [244.69673 ],\n",
       "       [245.48769 ],\n",
       "       [246.32175 ],\n",
       "       [246.93    ],\n",
       "       [247.1189  ],\n",
       "       [246.85013 ],\n",
       "       [246.31763 ],\n",
       "       [245.69698 ],\n",
       "       [245.15396 ],\n",
       "       [244.69171 ],\n",
       "       [244.27946 ],\n",
       "       [244.06833 ],\n",
       "       [243.91774 ],\n",
       "       [244.25642 ],\n",
       "       [244.94174 ],\n",
       "       [245.69719 ],\n",
       "       [246.28548 ],\n",
       "       [246.90204 ],\n",
       "       [247.52422 ],\n",
       "       [247.99492 ],\n",
       "       [248.17656 ],\n",
       "       [247.92111 ],\n",
       "       [246.87009 ],\n",
       "       [245.2731  ],\n",
       "       [243.07135 ],\n",
       "       [240.30229 ],\n",
       "       [237.33005 ],\n",
       "       [234.51033 ],\n",
       "       [232.10376 ],\n",
       "       [229.93086 ],\n",
       "       [228.07664 ],\n",
       "       [226.65926 ],\n",
       "       [225.67638 ],\n",
       "       [225.23067 ],\n",
       "       [224.90462 ],\n",
       "       [224.58617 ],\n",
       "       [224.20859 ],\n",
       "       [223.91966 ],\n",
       "       [223.67827 ],\n",
       "       [223.44067 ],\n",
       "       [223.2323  ],\n",
       "       [222.9384  ],\n",
       "       [222.59161 ],\n",
       "       [222.30971 ],\n",
       "       [222.17194 ],\n",
       "       [222.29025 ],\n",
       "       [222.70053 ],\n",
       "       [223.19054 ],\n",
       "       [223.5157  ],\n",
       "       [223.4908  ],\n",
       "       [223.31824 ],\n",
       "       [222.95149 ],\n",
       "       [222.48038 ],\n",
       "       [222.00978 ],\n",
       "       [221.53416 ],\n",
       "       [221.15372 ],\n",
       "       [220.48181 ],\n",
       "       [219.4793  ],\n",
       "       [218.17752 ],\n",
       "       [216.74602 ],\n",
       "       [215.2774  ],\n",
       "       [213.67699 ],\n",
       "       [212.23572 ],\n",
       "       [211.42415 ],\n",
       "       [211.37532 ],\n",
       "       [211.94705 ],\n",
       "       [212.95268 ],\n",
       "       [214.18694 ],\n",
       "       [215.43488 ],\n",
       "       [216.65994 ],\n",
       "       [217.72768 ]], dtype=float32)"
      ]
     },
     "execution_count": 24,
     "metadata": {},
     "output_type": "execute_result"
    }
   ],
   "source": [
    "test_predicted=scaler.inverse_transform(test_predict)\n",
    "test_predicted"
   ]
  },
  {
   "cell_type": "markdown",
   "metadata": {
    "id": "d2oFxoMcVE7z"
   },
   "source": [
    "Calculating Performance"
   ]
  },
  {
   "cell_type": "code",
   "execution_count": 25,
   "metadata": {
    "id": "PZ64H3dmU8MV"
   },
   "outputs": [],
   "source": [
    "import math\n",
    "from sklearn.metrics import mean_squared_error"
   ]
  },
  {
   "cell_type": "code",
   "execution_count": 26,
   "metadata": {
    "colab": {
     "base_uri": "https://localhost:8080/"
    },
    "id": "-Vs7OYuMVHzt",
    "outputId": "738065dd-f027-4526-e4a3-b86080a7af1d"
   },
   "outputs": [
    {
     "data": {
      "text/plain": [
       "0.07239122882971297"
      ]
     },
     "execution_count": 26,
     "metadata": {},
     "output_type": "execute_result"
    }
   ],
   "source": [
    "performance = math.sqrt(mean_squared_error(ytest,test_predict))\n",
    "performance"
   ]
  },
  {
   "cell_type": "code",
   "execution_count": null,
   "metadata": {
    "id": "2ehO74cRVKMV"
   },
   "outputs": [],
   "source": []
  }
 ],
 "metadata": {
  "colab": {
   "name": "Stock Market Prediction And Forecasting using Stacked LSTM",
   "provenance": []
  },
  "kernelspec": {
   "display_name": "Python 3",
   "language": "python",
   "name": "python3"
  },
  "language_info": {
   "codemirror_mode": {
    "name": "ipython",
    "version": 3
   },
   "file_extension": ".py",
   "mimetype": "text/x-python",
   "name": "python",
   "nbconvert_exporter": "python",
   "pygments_lexer": "ipython3",
   "version": "3.8.8"
  }
 },
 "nbformat": 4,
 "nbformat_minor": 1
}
